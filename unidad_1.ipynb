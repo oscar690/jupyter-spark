{
 "cells": [
  {
   "cell_type": "markdown",
   "metadata": {},
   "source": [
    "# Los comandos básicos de Linux"
   ]
  },
  {
   "cell_type": "markdown",
   "metadata": {},
   "source": [
    "Durante esta actividad practicaremos algunos de los comandos básicos de Linux que nos permiten gestionar un sistema, actividades como listar, copiar, mover, crear directorios y archivos harán parte de esta práctica."
   ]
  },
  {
   "cell_type": "markdown",
   "metadata": {},
   "source": [
    "# El Comando pwd"
   ]
  },
  {
   "cell_type": "markdown",
   "metadata": {},
   "source": [
    "`pwd` es un comando que permite identificar en que lugar del sistema te encuentras ubicado, es decir, en que carpeta estás actualmente.\n",
    "  * Se ejecuta simplemente `pwd` para que te de una ruta de donde te encuentras por ejemplo `/home/${USUARIO}/directorio1/`"
   ]
  },
  {
   "cell_type": "markdown",
   "metadata": {},
   "source": [
    "La siguiente ejecución te permitirá confirmar que estás en el directorio `/home/${USUARIO}/`, por favor ubicate sobre la proxima ejecución y presiona en el botón \"Run\" para validarlo."
   ]
  },
  {
   "cell_type": "code",
   "execution_count": null,
   "metadata": {},
   "outputs": [],
   "source": [
    "pwd"
   ]
  },
  {
   "cell_type": "markdown",
   "metadata": {},
   "source": [
    "# El Comando mkdir"
   ]
  },
  {
   "cell_type": "markdown",
   "metadata": {},
   "source": [
    "`mkdir` (abreviación de \"make directory\") es un comando que permite crear directorios en Linux\n",
    "  * Puedes crear directorios en la ruta actual con `mkdir directorioacrear` o en otras rutas `mkdir /ruta/al/directorio/directorioacrear`\n",
    "  * Puedes añadir flags como `-p` para crear varios directorios al tiempo `mkdir -p directorio1 directorio2 directorio3`"
   ]
  },
  {
   "cell_type": "markdown",
   "metadata": {},
   "source": [
    "La siguiente ejecución creará el `directorio1` y el `directorio2` en la ruta `/home/alejo/`."
   ]
  },
  {
   "cell_type": "code",
   "execution_count": 5,
   "metadata": {},
   "outputs": [],
   "source": [
    "mkdir -p /home/alejo/directorio1 /home/alejo/directorio2"
   ]
  },
  {
   "cell_type": "markdown",
   "metadata": {},
   "source": [
    "# El Comando touch"
   ]
  },
  {
   "cell_type": "markdown",
   "metadata": {},
   "source": [
    "`touch` es un comando que permite crear archivos vacíos en Linux\n",
    "  * Puedes crear archivos en la ruta actual con `touch archivoacrear` o en otras rutas `touch /ruta/al/directorio/archivoacrear`\n",
    "  * Puedes crear multiples archivos al tiempo `touch archivoacrear1 archivoacrear2 archivoacrear3`"
   ]
  },
  {
   "cell_type": "markdown",
   "metadata": {},
   "source": [
    "La siguiente ejecución creará el archivo `prueba1.txt` en el `directorio1` y el archivo `prueba2.txt` en el `directorio2` creados anteriormente en la ruta `/home/alejo/`."
   ]
  },
  {
   "cell_type": "code",
   "execution_count": 6,
   "metadata": {},
   "outputs": [
    {
     "ename": "NameError",
     "evalue": "name 'touch' is not defined",
     "output_type": "error",
     "traceback": [
      "\u001b[0;31m---------------------------------------------------------------------------\u001b[0m",
      "\u001b[0;31mNameError\u001b[0m                                 Traceback (most recent call last)",
      "\u001b[0;32m<ipython-input-6-a96a17138864>\u001b[0m in \u001b[0;36m<module>\u001b[0;34m\u001b[0m\n\u001b[0;32m----> 1\u001b[0;31m \u001b[0mtouch\u001b[0m \u001b[0;34m/\u001b[0m\u001b[0mhome\u001b[0m\u001b[0;34m/\u001b[0m\u001b[0malejo\u001b[0m\u001b[0;34m/\u001b[0m\u001b[0mdirectorio1\u001b[0m\u001b[0;34m/\u001b[0m\u001b[0mprueba1\u001b[0m\u001b[0;34m.\u001b[0m\u001b[0mtxt\u001b[0m \u001b[0;34m/\u001b[0m\u001b[0mhome\u001b[0m\u001b[0;34m/\u001b[0m\u001b[0malejo\u001b[0m\u001b[0;34m/\u001b[0m\u001b[0mdirectorio2\u001b[0m\u001b[0;34m/\u001b[0m\u001b[0mprueba2\u001b[0m\u001b[0;34m.\u001b[0m\u001b[0mtxt\u001b[0m\u001b[0;34m\u001b[0m\u001b[0;34m\u001b[0m\u001b[0m\n\u001b[0m",
      "\u001b[0;31mNameError\u001b[0m: name 'touch' is not defined"
     ]
    }
   ],
   "source": [
    "touch /home/alejo/directorio1/prueba1.txt /home/alejo/directorio2/prueba2.txt"
   ]
  },
  {
   "cell_type": "markdown",
   "metadata": {},
   "source": [
    "# El Comando ls"
   ]
  },
  {
   "cell_type": "markdown",
   "metadata": {},
   "source": [
    "`ls` (abreviación de \"list\") es un comando que sirve para listar los archivos en un directorio\n",
    "  * Puedes añadir flags como \"-la\" para ver más información de los archvios por ejemplo `ls -la directorio`.\n",
    "  * Puedes añadir rutas como por ejemplo `ls /directorio/subdirectorio` para ver el contenido de otro directorio"
   ]
  },
  {
   "cell_type": "markdown",
   "metadata": {},
   "source": [
    "La siguiente ejecución listara el contenido del directorio `directorio1` en la ruta `/home/alejo/` donde deberá estar el archivo `prueba1.txt` creado en la anterior ejecución."
   ]
  },
  {
   "cell_type": "code",
   "execution_count": 7,
   "metadata": {},
   "outputs": [
    {
     "name": "stdout",
     "output_type": "stream",
     "text": [
      "total 16\r\n",
      "drwxr-xr-x  2 alejo users  4096 jul 31 22:45 \u001b[0m\u001b[01;34m.\u001b[0m/\r\n",
      "drwx------ 93 alejo users 12288 jul 31 22:45 \u001b[01;34m..\u001b[0m/\r\n"
     ]
    }
   ],
   "source": [
    "ls -la /home/alejo/directorio1/"
   ]
  },
  {
   "cell_type": "markdown",
   "metadata": {},
   "source": [
    "# El Comando mv"
   ]
  },
  {
   "cell_type": "markdown",
   "metadata": {},
   "source": [
    "`mv` (abreviación de \"move\") es un comando que sirve para mover archivos y/o directorios de un lugar a otro\n",
    "  * Permite mover directorios de forma recursiva.\n",
    "  * Se utiliza el comando `mv /recurso/de/origen /directorio/de/destino`"
   ]
  },
  {
   "cell_type": "markdown",
   "metadata": {},
   "source": [
    "La siguiente ejecución movera el archivo `prueba1.txt` desde el directorio `directorio1` al directorio `directorio2`."
   ]
  },
  {
   "cell_type": "code",
   "execution_count": null,
   "metadata": {},
   "outputs": [],
   "source": [
    "mv /home/alejo/directorio1/prueba1.txt /home/alejo/directorio2/"
   ]
  },
  {
   "cell_type": "markdown",
   "metadata": {},
   "source": [
    "# El Comando cp"
   ]
  },
  {
   "cell_type": "markdown",
   "metadata": {},
   "source": [
    "`cp` (abreviación de \"copy\") es un comando que sirve para copiar archivos y/o directorios de un lugar a otro\n",
    "  * Permite archivos simples o múltiples archivos.\n",
    "  * Para copiar directorios enteros de forma recursiva se debe utilizar la flag `-R` así `cp -R /directorio/de/origen/con/muchosarchivos/ /directorio/de/destino/`.\n",
    "  * Se utiliza el comando `mv /recurso/de/origen /directorio/de/destino`"
   ]
  },
  {
   "cell_type": "markdown",
   "metadata": {},
   "source": [
    "La siguiente ejecución copia el archivo `prueba1.txt` desde el directorio `directorio2` de vuelta al directorio `directorio1`."
   ]
  },
  {
   "cell_type": "code",
   "execution_count": null,
   "metadata": {},
   "outputs": [],
   "source": [
    "cp /home/alejo/directorio2/prueba1.txt /home/alejo/directorio1/"
   ]
  },
  {
   "cell_type": "markdown",
   "metadata": {},
   "source": [
    "# El Comando cd"
   ]
  },
  {
   "cell_type": "markdown",
   "metadata": {},
   "source": [
    "`cd` (abreviación de \"change directory\") es un comando que sirve para moverte entre directorios\n",
    "  * Puedes moverte utilizando rutas absolutas o relativas por ejemplo si estás en `/home/alejo/` y quieres moverte a `directorio1` puedes utilizar:\n",
    "  * Rutas absolutas: `cd /home/alejo/directorio1/` (importante que siempre que uses rutas absolutas antepongas la raíz`/`)\n",
    "  * Rutas relativas: `cd directorio1` (esto debido a que ya estás dentro de `/home/alejo/` asi que solo te moverás un espacio hacia adelante.\n",
    "  * Puedes utilizar atajos, por ejemplo:\n",
    "  * Moverte un directorio hacia atras: `cd ..`\n",
    "  * Moverte dos o más directorios hacia atrás: `cd ../../` (tantos ../ como directorios desees moverte)."
   ]
  },
  {
   "cell_type": "markdown",
   "metadata": {},
   "source": [
    "La siguiente ejecución te permitirá moverte al directorio `/home/alejo/directorio1/`"
   ]
  },
  {
   "cell_type": "code",
   "execution_count": null,
   "metadata": {},
   "outputs": [],
   "source": [
    "cd /home/alejo/directorio1/"
   ]
  },
  {
   "cell_type": "markdown",
   "metadata": {},
   "source": [
    "# El Comando rm o el Comando rmdir"
   ]
  },
  {
   "cell_type": "markdown",
   "metadata": {},
   "source": [
    "`rm` (abreviación de \"remove\") o `rmdir` (abreviación de \"remove directory\" menos utilizado) son comandos eliminar archivos o directorios.\n",
    "  * Se ejecuta simplemente `rm` borrar un solo archivo `rm /ruta/al/archivo/a/borrar/`\n",
    "  * Se ejecuta `rmdir` para borrar directorios vacíos `rmdir /ruta/al/directorio/vacio/`\n",
    "  * Con `rm` se ejecuta la flag `-f` que permite omitir la confirmación (forzar el borrado)\n",
    "  * Con `rm` se ejecuta la flag `-r` para poder borrar directorios con contenido en su interior (recursivamente)\n",
    "  * Dados los ejemplos anteriores con `rm` podríamos borrar un directorio con contenido de manera recursiva y forzada así `rm -rf /ruta/al/directorio/con/contenido/a/borrar/`"
   ]
  },
  {
   "cell_type": "markdown",
   "metadata": {},
   "source": [
    "La siguiente ejecución te permitirá eliminar el directorio2 y todo su contenido `/home/alejo/directorio2/`"
   ]
  },
  {
   "cell_type": "code",
   "execution_count": null,
   "metadata": {},
   "outputs": [],
   "source": [
    "rm -rf /home/alejo/directorio2/"
   ]
  },
  {
   "cell_type": "markdown",
   "metadata": {},
   "source": [
    "# El Comando curl y el Comando wget"
   ]
  },
  {
   "cell_type": "markdown",
   "metadata": {},
   "source": [
    "`curl` (abreviación de \"client for URL's\" es una poderosa herramienta que te permite transferir datos utilizando diferentes protocolos. \n",
    "`wget` (abreviación de \"world wide web get\")es una herramienta que permite obtener recursos de internet.\n",
    "  * Se ejecuta `curl` y el sitio web objetivo para hacer una consulta simple de GET `curl https://google.com/`\n",
    "  * Se ejecuta `wget` y el recurso en línea objetivo para hacer una descarga de archivo `wget https://sitio.web/archivoadescargar.txt`\n",
    "  * Se puede añadir el flag `-O` a `wget` para definir en donde se almacenará el recurso descargado."
   ]
  },
  {
   "cell_type": "markdown",
   "metadata": {},
   "source": [
    "La siguiente ejecución te permitirá descargar con curl un archivo de mp3 de ejemplo de un sitio web, y guardarlo en la ruta `/home/alejo/directorio1/` con el nombre `archivodeaudio.mp3`"
   ]
  },
  {
   "cell_type": "code",
   "execution_count": null,
   "metadata": {},
   "outputs": [],
   "source": [
    "wget https://file-examples.com/wp-content/uploads/2017/11/file_example_MP3_700KB.mp3 -O /home/alejo/directorio1/archivodeaudio.mp3"
   ]
  },
  {
   "cell_type": "markdown",
   "metadata": {},
   "source": [
    "# El Comando ln"
   ]
  },
  {
   "cell_type": "markdown",
   "metadata": {},
   "source": [
    "`ln` (abreviación de \"link\") crea enlaces simbólicos de archivos en Linux, s\n",
    " "
   ]
  },
  {
   "cell_type": "markdown",
   "metadata": {},
   "source": [
    "# El Comando date"
   ]
  },
  {
   "cell_type": "markdown",
   "metadata": {},
   "source": [
    "`date` te dará la hora y fecha del sistema. \n",
    "`wget` (abreviación de \"world wide web get\")es una herramienta que permite obtener recursos de internet.\n",
    "  * Puedes utilizar ccientos de formatos diferentes algunos ejemplos son:\n",
    "  * `date +%Y-%m-%d` Te dará la fecha en este formato: 2020-08-02\n",
    "  * `date +%D` Te dará la fecha en este formato:  08/02/20\n",
    "  * `date --date=\"1 day ago\"` Te dará la fecha y hora de un día atrás. "
   ]
  },
  {
   "cell_type": "markdown",
   "metadata": {},
   "source": [
    "La siguiente ejecución te dará una salida simple del formato date"
   ]
  },
  {
   "cell_type": "code",
   "execution_count": null,
   "metadata": {},
   "outputs": [],
   "source": [
    "date"
   ]
  }
 ],
 "metadata": {
  "kernelspec": {
   "display_name": "Python 3",
   "language": "python",
   "name": "python3"
  },
  "language_info": {
   "codemirror_mode": {
    "name": "ipython",
    "version": 3
   },
   "file_extension": ".py",
   "mimetype": "text/x-python",
   "name": "python",
   "nbconvert_exporter": "python",
   "pygments_lexer": "ipython3",
   "version": "3.8.2"
  }
 },
 "nbformat": 4,
 "nbformat_minor": 2
}
